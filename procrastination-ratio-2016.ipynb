{
 "cells": [
  {
   "cell_type": "code",
   "execution_count": 1,
   "metadata": {},
   "outputs": [],
   "source": [
    "import numpy as np"
   ]
  },
  {
   "cell_type": "code",
   "execution_count": 52,
   "metadata": {},
   "outputs": [],
   "source": [
    "# n is the final day\n",
    "def create_two_state_task_graph(num_days, do_cost=2, procrastinate_cost=1):\n",
    "    n=num_days\n",
    "    adj_list = {}\n",
    "    \n",
    "    for i in range(0,n):\n",
    "        if i==0:\n",
    "            adj_list['S'] = [('D'+str(i+1),do_cost), ('P'+str(i+1),procrastinate_cost)]\n",
    "        else:\n",
    "            adj_list['D'+str(i)] = [('D'+str(i+1),0)]\n",
    "            if i+1 != n:\n",
    "                adj_list['P'+str(i)] = [('D'+str(i+1),do_cost), ('P'+str(i+1),procrastinate_cost)]\n",
    "            else:\n",
    "                adj_list['P'+str(i)] = [('D'+str(i+1),do_cost)]\n",
    "\n",
    "    adj_list['D'+str(n)] = []\n",
    "    adj_list['D'+str(n)] = []\n",
    "\n",
    "    return adj_list"
   ]
  },
  {
   "cell_type": "code",
   "execution_count": 57,
   "metadata": {},
   "outputs": [
    {
     "data": {
      "text/plain": [
       "{'S': [('D1', 2), ('P1', 1)],\n",
       " 'D1': [('D2', 0)],\n",
       " 'P1': [('D2', 2), ('P2', 1)],\n",
       " 'D2': [('D3', 0)],\n",
       " 'P2': [('D3', 2), ('P3', 1)],\n",
       " 'D3': [('D4', 0)],\n",
       " 'P3': [('D4', 2), ('P4', 1)],\n",
       " 'D4': [('D5', 0)],\n",
       " 'P4': [('D5', 2), ('P5', 1)],\n",
       " 'D5': [('D6', 0)],\n",
       " 'P5': [('D6', 2)],\n",
       " 'D6': []}"
      ]
     },
     "execution_count": 57,
     "metadata": {},
     "output_type": "execute_result"
    }
   ],
   "source": [
    "adj_list = create_two_state_task_graph(6, do_cost=2, procrastinate_cost=1)\n",
    "adj_list"
   ]
  },
  {
   "cell_type": "code",
   "execution_count": 55,
   "metadata": {},
   "outputs": [
    {
     "data": {
      "text/plain": [
       "{'S': (0, 0.5),\n",
       " 'D1': (0.5, 1),\n",
       " 'P1': (0.5, 0),\n",
       " 'D2': (1.0, 1),\n",
       " 'P2': (1.0, 0),\n",
       " 'D3': (1.5, 1),\n",
       " 'P3': (1.5, 0),\n",
       " 'D4': (2.0, 1),\n",
       " 'P4': (2.0, 0),\n",
       " 'D5': (2.5, 1),\n",
       " 'P5': (2.5, 0),\n",
       " 'D6': (3.0, 1),\n",
       " 'P6': (3.0, 0),\n",
       " 'D7': (3.5, 1),\n",
       " 'P7': (3.5, 0),\n",
       " 'D8': (4.0, 1),\n",
       " 'P8': (4.0, 0),\n",
       " 'D9': (4.5, 1),\n",
       " 'P9': (4.5, 0),\n",
       " 'D10': (5.0, 1)}"
      ]
     },
     "execution_count": 55,
     "metadata": {},
     "output_type": "execute_result"
    }
   ],
   "source": [
    "pos={}\n",
    "p_idx = 0.5\n",
    "d_idx = 0.5\n",
    "for node in adj_list:\n",
    "    if node[0] == 'S':\n",
    "        pos[node]=(0,0.5)\n",
    "    elif node[0] == 'P':\n",
    "        pos[node]=(p_idx,0)\n",
    "        p_idx+=0.5\n",
    "    else:\n",
    "        pos[node]=(d_idx,1)\n",
    "        d_idx+=0.5\n",
    "pos"
   ]
  },
  {
   "cell_type": "code",
   "execution_count": 72,
   "metadata": {},
   "outputs": [
    {
     "data": {
      "image/png": "[encoded data removed]",
      "text/plain": [
       "<Figure size 432x288 with 1 Axes>"
      ]
     },
     "metadata": {},
     "output_type": "display_data"
    }
   ],
   "source": [
    "import networkx as nx\n",
    "import matplotlib.pyplot as plt\n",
    "\n",
    "# Create a new graph\n",
    "G = nx.Graph()\n",
    "\n",
    "# Add edges and weights to the graph\n",
    "for node, neighbors in adj_list.items():\n",
    "    for neighbor, weight in neighbors:\n",
    "        G.add_edge(node, neighbor, weight=weight)\n",
    "\n",
    "# Draw the graph\n",
    "nx.draw(G, pos, with_labels=True)  # draw nodes\n",
    "nx.draw_networkx_edge_labels(G, pos, edge_labels=nx.get_edge_attributes(G, 'weight'))  # draw edge labels\n",
    "plt.show()"
   ]
  },
  {
   "cell_type": "code",
   "execution_count": 67,
   "metadata": {},
   "outputs": [],
   "source": [
    "import heapq\n",
    "\n",
    "def dijkstra(graph, start, end):\n",
    "    # Initialize the distance dictionary with infinite distances for all nodes\n",
    "    distances = {node: float('inf') for node in graph}\n",
    "    distances[start] = 0  # The start node is at distance 0\n",
    "\n",
    "    # Initialize the priority queue with the start node\n",
    "    queue = [(0, start)]\n",
    "\n",
    "    while queue:\n",
    "        # Get the node with the smallest distance from the queue\n",
    "        current_distance, current_node = heapq.heappop(queue)\n",
    "\n",
    "        # If this path is worse than the best known one, ignore it\n",
    "        if current_distance > distances[current_node]:\n",
    "            continue\n",
    "\n",
    "        # Update distances for all neighbors\n",
    "        for neighbor, weight in graph[current_node]:\n",
    "            distance = current_distance + weight\n",
    "\n",
    "            # If we found a shorter path to the neighbor, update it\n",
    "            if distance < distances[neighbor]:\n",
    "                distances[neighbor] = distance\n",
    "                # Add the neighbor to the queue with the new distance\n",
    "                heapq.heappush(queue, (distance, neighbor))\n",
    "\n",
    "    return distances[end]"
   ]
  },
  {
   "cell_type": "code",
   "execution_count": 73,
   "metadata": {},
   "outputs": [
    {
     "data": {
      "text/plain": [
       "{'S': [('D1', 2), ('P1', 1)],\n",
       " 'D1': [('D2', 0)],\n",
       " 'P1': [('D2', 2), ('P2', 1)],\n",
       " 'D2': [('D3', 0)],\n",
       " 'P2': [('D3', 2), ('P3', 1)],\n",
       " 'D3': [('D4', 0)],\n",
       " 'P3': [('D4', 2), ('P4', 1)],\n",
       " 'D4': [('D5', 0)],\n",
       " 'P4': [('D5', 2), ('P5', 1)],\n",
       " 'D5': [('D6', 0)],\n",
       " 'P5': [('D6', 2)],\n",
       " 'D6': []}"
      ]
     },
     "execution_count": 73,
     "metadata": {},
     "output_type": "execute_result"
    }
   ],
   "source": [
    "adj_list"
   ]
  },
  {
   "cell_type": "code",
   "execution_count": 89,
   "metadata": {},
   "outputs": [
    {
     "name": "stdout",
     "output_type": "stream",
     "text": [
      "['S', 'D1', 'D2', 'D3', 'D4', 'D5', 'D6'] 2\n"
     ]
    }
   ],
   "source": [
    "# Let's see for the rational agent without present bias\n",
    "vertex = 'S'\n",
    "goal_vertex = 'D6'\n",
    "total_cost = 0\n",
    "traverse_path = ['S']\n",
    "while(vertex!=goal_vertex):\n",
    "    cost = []\n",
    "    for next_vertex in adj_list[vertex]:\n",
    "        next_vertex_cost = next_vertex[1]\n",
    "        next_vertex_to_goal = dijkstra(adj_list, next_vertex[0], goal_vertex)\n",
    "        cost.append(next_vertex_cost + next_vertex_to_goal)\n",
    "    \n",
    "    optim_cost_idx = np.argmin(cost)\n",
    "\n",
    "    optimal_next_vertex = adj_list[vertex][optim_cost_idx]\n",
    "    traverse_path.append(optimal_next_vertex[0])\n",
    "    vertex = optimal_next_vertex[0]\n",
    "\n",
    "    total_cost+=optimal_next_vertex[1]\n",
    "\n",
    "print(traverse_path, total_cost)\n",
    "\n",
    "\n",
    "        "
   ]
  },
  {
   "cell_type": "code",
   "execution_count": 83,
   "metadata": {},
   "outputs": [
    {
     "data": {
      "text/plain": [
       "2"
      ]
     },
     "execution_count": 83,
     "metadata": {},
     "output_type": "execute_result"
    }
   ],
   "source": [
    "dijkstra(adj_list, 'P1', 'D6')"
   ]
  },
  {
   "cell_type": "code",
   "execution_count": 91,
   "metadata": {},
   "outputs": [
    {
     "data": {
      "text/plain": [
       "(['S', 'D1', 'D2', 'D3', 'D4', 'D5', 'D6'], 2)"
      ]
     },
     "execution_count": 91,
     "metadata": {},
     "output_type": "execute_result"
    }
   ],
   "source": [
    "def _traverse_without_bias(adj_list, goal_vertex):\n",
    "# Let's see for the rational agent without present bias\n",
    "    vertex = 'S'\n",
    "    goal_vertex = 'D6'\n",
    "    total_cost = 0\n",
    "    traverse_path = ['S']\n",
    "    while(vertex!=goal_vertex):\n",
    "        cost = []\n",
    "        for next_vertex in adj_list[vertex]:\n",
    "            next_vertex_cost = next_vertex[1]\n",
    "            next_vertex_to_goal = dijkstra(adj_list, next_vertex[0], goal_vertex)\n",
    "            cost.append(next_vertex_cost + next_vertex_to_goal)\n",
    "        \n",
    "        optim_cost_idx = np.argmin(cost)\n",
    "\n",
    "        optimal_next_vertex = adj_list[vertex][optim_cost_idx]\n",
    "        traverse_path.append(optimal_next_vertex[0])\n",
    "        vertex = optimal_next_vertex[0]\n",
    "        total_cost += optimal_next_vertex[1]\n",
    "\n",
    "\n",
    "    return traverse_path, total_cost\n",
    "\n",
    "_traverse_without_bias(adj_list, 'D6')"
   ]
  },
  {
   "cell_type": "code",
   "execution_count": 93,
   "metadata": {},
   "outputs": [
    {
     "data": {
      "text/plain": [
       "(['S', 'P1', 'P2', 'P3', 'P4', 'P5', 'D6'], 7)"
      ]
     },
     "execution_count": 93,
     "metadata": {},
     "output_type": "execute_result"
    }
   ],
   "source": [
    "def _traverse_with_constant_bias(adj_list, goal_vertex, bias_factor):\n",
    "# Let's see for the rational agent without present bias\n",
    "    vertex = 'S'\n",
    "    goal_vertex = 'D6'\n",
    "    total_cost = 0\n",
    "    traverse_path = ['S']\n",
    "    while(vertex!=goal_vertex):\n",
    "        cost = []\n",
    "        for next_vertex in adj_list[vertex]:\n",
    "            if next_vertex[0][0]=='D':\n",
    "                next_vertex_cost = next_vertex[1]*bias_factor\n",
    "            else:\n",
    "                next_vertex_cost = next_vertex[1]\n",
    "\n",
    "            next_vertex_to_goal = dijkstra(adj_list, next_vertex[0], goal_vertex)\n",
    "            cost.append(next_vertex_cost + next_vertex_to_goal)\n",
    "        \n",
    "        optim_cost_idx = np.argmin(cost)\n",
    "\n",
    "        optimal_next_vertex = adj_list[vertex][optim_cost_idx]\n",
    "        traverse_path.append(optimal_next_vertex[0])\n",
    "        vertex = optimal_next_vertex[0]\n",
    "        total_cost += optimal_next_vertex[1]\n",
    "\n",
    "\n",
    "    return traverse_path, total_cost\n",
    "\n",
    "_traverse_with_constant_bias(adj_list, 'D6', 2)"
   ]
  },
  {
   "cell_type": "code",
   "execution_count": 112,
   "metadata": {},
   "outputs": [
    {
     "data": {
      "text/plain": [
       "1"
      ]
     },
     "execution_count": 112,
     "metadata": {},
     "output_type": "execute_result"
    }
   ],
   "source": [
    "# Get IID for bias factor\n",
    "outcomes = [1, 3]\n",
    "probabilities = [1/3, 2/3]\n",
    "np.random.choice(outcomes, p=probabilities)"
   ]
  },
  {
   "cell_type": "code",
   "execution_count": 127,
   "metadata": {},
   "outputs": [
    {
     "data": {
      "text/plain": [
       "(['S', 'P1', 'P2', 'P3', 'P4', 'P5', 'D6'], 7)"
      ]
     },
     "execution_count": 127,
     "metadata": {},
     "output_type": "execute_result"
    }
   ],
   "source": [
    "def _traverse_with_variable_bias(adj_list, goal_vertex, bias_factor):\n",
    "# Let's see for the rational agent without present bias\n",
    "    vertex = 'S'\n",
    "    total_cost = 0\n",
    "    traverse_path = ['S']\n",
    "    while(vertex!=goal_vertex):\n",
    "        cost = []\n",
    "        for next_vertex in adj_list[vertex]:\n",
    "            if next_vertex[0][0]=='D':\n",
    "                # Get value from IID for bias factor\n",
    "                outcomes = [1, 3]\n",
    "                probabilities = [1/3, 2/3]\n",
    "                bias_factor = np.random.choice(outcomes, p=probabilities)\n",
    "                next_vertex_cost = next_vertex[1]*bias_factor\n",
    "            else:\n",
    "                next_vertex_cost = next_vertex[1]\n",
    "\n",
    "            next_vertex_to_goal = dijkstra(adj_list, next_vertex[0], goal_vertex)\n",
    "            cost.append(next_vertex_cost + next_vertex_to_goal)\n",
    "        \n",
    "        optim_cost_idx = np.argmin(cost)\n",
    "\n",
    "        optimal_next_vertex = adj_list[vertex][optim_cost_idx]\n",
    "        traverse_path.append(optimal_next_vertex[0])\n",
    "        vertex = optimal_next_vertex[0]\n",
    "        total_cost += optimal_next_vertex[1]\n",
    "\n",
    "\n",
    "    return traverse_path, total_cost\n",
    "\n",
    "_traverse_with_variable_bias(adj_list, 'D6', 2)"
   ]
  },
  {
   "cell_type": "code",
   "execution_count": 128,
   "metadata": {},
   "outputs": [],
   "source": [
    "# Let's simulate the variable bias model with different day size 1000 times and see how the procrastination ratio looks like"
   ]
  },
  {
   "cell_type": "code",
   "execution_count": 136,
   "metadata": {},
   "outputs": [
    {
     "name": "stdout",
     "output_type": "stream",
     "text": [
      "\n",
      "Traversal Cost of agent with variable present bias averaged for 10000 simulation 3.695\n"
     ]
    }
   ],
   "source": [
    "from TaskGraph import TwoStateTaskGraph\n",
    "\n",
    "twoStateTaskGraph = TwoStateTaskGraph(6, 2, 1)\n",
    "\n",
    "path_without_bias = twoStateTaskGraph._traverse_with_constant_bias('D6',bias_factor = 0)\n",
    "path_with_constant_bias = twoStateTaskGraph._traverse_with_constant_bias('D6',bias_factor = 2)\n",
    "\n",
    "\n",
    "cost_without_bias = path_without_bias[1]\n",
    "cost_with_constant_bias = path_with_constant_bias[1]\n",
    "\n",
    "total_cost_variable_bias = 0\n",
    "iterations = 10000\n",
    "for i in range (iterations):\n",
    "    path_with_variable_bias = twoStateTaskGraph._traverse_with_variable_bias('D6')\n",
    "    total_cost_variable_bias+=path_with_variable_bias[1]\n",
    "\n",
    "print(\"\\nTraversal Cost of agent with variable present bias averaged for 10000 simulation\", total_cost_variable_bias/iterations)"
   ]
  },
  {
   "cell_type": "code",
   "execution_count": null,
   "metadata": {},
   "outputs": [],
   "source": []
  }
 ],
 "metadata": {
  "interpreter": {
   "hash": "b09d578a64f9c47a88456b1b96c86094125093e6d65b5d08af8fc6706051a0ce"
  },
  "kernelspec": {
   "display_name": "Python 3.8.13 ('tf_m1')",
   "language": "python",
   "name": "python3"
  },
  "language_info": {
   "codemirror_mode": {
    "name": "ipython",
    "version": 3
   },
   "file_extension": ".py",
   "mimetype": "text/x-python",
   "name": "python",
   "nbconvert_exporter": "python",
   "pygments_lexer": "ipython3",
   "version": "3.8.13"
  },
  "orig_nbformat": 4
 },
 "nbformat": 4,
 "nbformat_minor": 2
}
